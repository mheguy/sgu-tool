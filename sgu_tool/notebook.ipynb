{
 "cells": [
  {
   "cell_type": "code",
   "execution_count": null,
   "metadata": {},
   "outputs": [],
   "source": [
    "%pip install -e ../"
   ]
  },
  {
   "cell_type": "code",
   "execution_count": null,
   "metadata": {},
   "outputs": [],
   "source": [
    "import json\n",
    "\n",
    "import httpx\n",
    "\n",
    "from .main import (\n",
    "    DiarizedTranscript,\n",
    "    ensure_directories,\n",
    "    extract_rogue_names_from_transcription,\n",
    "    get_podcast_episodes,\n",
    "    get_rss_feed_entries,\n",
    "    load_models,\n",
    "    merge_transcript_and_diarization,\n",
    ")"
   ]
  },
  {
   "cell_type": "code",
   "execution_count": null,
   "metadata": {},
   "outputs": [],
   "source": [
    "print(\"Starting...\")\n",
    "ensure_directories()\n",
    "whisper_model, pipeline, nlp = load_models()\n",
    "\n",
    "async with httpx.AsyncClient(follow_redirects=True) as client:\n",
    "    feed_entries = await get_rss_feed_entries(client)\n",
    "    episodes = get_podcast_episodes(feed_entries)\n",
    "\n",
    "    for episode in episodes:\n",
    "        audio_file = await episode.get_audio_file(client)\n",
    "\n",
    "        transcription = episode.get_transcription(audio_file, whisper_model)\n",
    "        episode.transcription_file.write_text(json.dumps(transcription))\n",
    "        print(\"Transcription saved.\")\n",
    "\n",
    "        rogues = extract_rogue_names_from_transcription(nlp, transcription)\n",
    "        max_speakers = len(rogues) + 1  # Add 1 for the intro + Sci or Fict voice\n",
    "\n",
    "        diarization = episode.get_diarization(audio_file, pipeline, max_speakers)\n",
    "        episode.diarization_file.write_text(json.dumps(diarization))\n",
    "        print(\"Diarization saved.\")\n",
    "\n",
    "        diarized_transcript_segments = merge_transcript_and_diarization(transcription, diarization)\n",
    "\n",
    "        diarized_transcript = DiarizedTranscript(rogues=rogues, segments=diarized_transcript_segments)\n",
    "        episode.diarized_transcript_file.write_text(json.dumps(diarized_transcript))\n",
    "\n",
    "        print(\"Diarized transcript saved.\")\n",
    "\n",
    "        # Next up, trying to tag the speakers with the rogues' names"
   ]
  }
 ],
 "metadata": {
  "kernelspec": {
   "display_name": "Python 3 (ipykernel)",
   "language": "python",
   "name": "python3"
  }
 },
 "nbformat": 4,
 "nbformat_minor": 2
}
